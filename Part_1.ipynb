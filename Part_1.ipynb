{
 "cells": [
  {
   "cell_type": "code",
   "execution_count": 34,
   "metadata": {},
   "outputs": [
    {
     "name": "stdout",
     "output_type": "stream",
     "text": [
      "description of the dataset                 a6           a8          a10          a12          a14  \\\n",
      "count  1202.000000  1202.000000  1202.000000  1202.000000  1202.000000   \n",
      "mean     56.387155    59.147687    59.999551    58.874193    59.536389   \n",
      "std      43.868545    45.930797    46.909051    45.465840    46.522244   \n",
      "min       7.300000     7.900000    11.600000     7.500000     7.700000   \n",
      "25%      27.800000    28.200000    27.725000    28.425000    27.700000   \n",
      "50%      39.600000    41.400000    41.200000    40.400000    41.300000   \n",
      "75%      66.700000    71.800000    73.187500    72.700000    72.975000   \n",
      "max     216.630000   219.100000   220.700000   216.900000   224.700000   \n",
      "\n",
      "               a16          a18          a20          a22          a24  \\\n",
      "count  1202.000000  1202.000000  1202.000000  1202.000000  1202.000000   \n",
      "mean     59.597471    57.309401    58.728378    55.568128    57.278544   \n",
      "std      45.921470    43.398889    44.909447    43.476958    45.148903   \n",
      "min       7.500000     7.600000     9.200000     7.500000     6.800000   \n",
      "25%      28.725000    27.875000    28.302500    28.050000    28.100000   \n",
      "50%      41.000000    39.925000    40.500000    39.600000    40.400000   \n",
      "75%      72.175000    71.975000    72.100000    64.160000    65.775000   \n",
      "max     221.250000   223.000000   222.700000   222.100000   218.300000   \n",
      "\n",
      "               a26          a28          a30          a32          a34  \\\n",
      "count  1202.000000  1202.000000  1202.000000  1202.000000  1202.000000   \n",
      "mean     58.794725    56.415308    61.136672    59.793536    58.655524   \n",
      "std      46.448512    44.489723    47.351395    44.805028    45.697774   \n",
      "min      11.800000    11.600000     8.000000     7.600000     2.400000   \n",
      "25%      26.625000    27.025000    28.550000    30.300000    28.700000   \n",
      "50%      40.215000    39.500000    41.400000    41.200000    40.700000   \n",
      "75%      71.900000    65.375000    74.600000    72.600000    69.900000   \n",
      "max     222.500000   215.270000   220.200000   216.900000   218.000000   \n",
      "\n",
      "               a36          a38          a40          a42          a44  \n",
      "count  1202.000000  1202.000000  1202.000000  1202.000000  1202.000000  \n",
      "mean     60.627945    58.849384    57.287329    60.231140    57.614401  \n",
      "std      46.396705    46.498059    44.742240    47.950173    44.897128  \n",
      "min       7.800000     7.900000     8.100000     7.900000     7.700000  \n",
      "25%      30.625000    28.300000    27.302500    28.225000    28.225000  \n",
      "50%      42.000000    40.050000    39.700000    40.700000    40.400000  \n",
      "75%      72.575000    71.175000    68.825000    72.075000    70.200000  \n",
      "max     216.400000   224.500000   216.100000   217.460000   219.300000  \n"
     ]
    }
   ],
   "source": [
    "# DATA INSPECTION\n",
    "import pandas as pd\n",
    "\n",
    "df = pd.read_csv(\"diterpene_shuf.csv\")\n",
    "df = df.drop(columns=['a0', 'a1', 'a2', 'a3'])\n",
    "df.head()\n",
    "\n",
    "# Dimension of the dataset\n",
    "#print(\"dimension of the dataset\",df.shape)\n",
    "\n",
    "#df.info()\n",
    "print(\"description of the dataset\", df.describe())\n"
   ]
  },
  {
   "cell_type": "code",
   "execution_count": 17,
   "metadata": {},
   "outputs": [
    {
     "data": {
      "text/plain": [
       "a4       object\n",
       "a5       object\n",
       "a6      float64\n",
       "a7       object\n",
       "a8      float64\n",
       "a9       object\n",
       "a10     float64\n",
       "a11      object\n",
       "a12     float64\n",
       "a13      object\n",
       "a14     float64\n",
       "a15      object\n",
       "a16     float64\n",
       "a17      object\n",
       "a18     float64\n",
       "a19      object\n",
       "a20     float64\n",
       "a21      object\n",
       "a22     float64\n",
       "a23      object\n",
       "a24     float64\n",
       "a25      object\n",
       "a26     float64\n",
       "a27      object\n",
       "a28     float64\n",
       "a29      object\n",
       "a30     float64\n",
       "a31      object\n",
       "a32     float64\n",
       "a33      object\n",
       "a34     float64\n",
       "a35      object\n",
       "a36     float64\n",
       "a37      object\n",
       "a38     float64\n",
       "a39      object\n",
       "a40     float64\n",
       "a41      object\n",
       "a42     float64\n",
       "a43      object\n",
       "a44     float64\n",
       "a45c     object\n",
       "dtype: object"
      ]
     },
     "execution_count": 17,
     "metadata": {},
     "output_type": "execute_result"
    }
   ],
   "source": [
    "# DATA CLEANING\n",
    "df.duplicated().any()\n",
    "df.dtypes"
   ]
  },
  {
   "cell_type": "code",
   "execution_count": null,
   "metadata": {},
   "outputs": [
    {
     "data": {
      "text/plain": [
       "array(['52c', '54c', '3c', '47c', '4c', '22c', '5c', '36c', '2c', '28c',\n",
       "       '33c', '64c', '71c', '80c', '18c', '79c', '60c', '31c', '15c',\n",
       "       '8c', '46c', '10c'], dtype=object)"
      ]
     },
     "execution_count": 19,
     "metadata": {},
     "output_type": "execute_result"
    }
   ],
   "source": [
    "# Classified into 23 categories based on the skeleton structures\n",
    "df[\"a45c\"].unique()\n"
   ]
  },
  {
   "cell_type": "code",
   "execution_count": null,
   "metadata": {},
   "outputs": [],
   "source": [
    "# ML ALGORITHM\n",
    "# Why SVM ? \n",
    "# performs well when the dataset has a large number of features since it focuses on finding the optimal decision boundary by maximizing the margin between classes\n",
    "# the dataset includes mixed numerical and categorical features and therefore can handle non-linear decision boundaries effectively with kernels like RBF\n",
    "# regularization parameter \"C\" elps control overfitting, especially in high-dimensional spaces  \n"
   ]
  },
  {
   "cell_type": "code",
   "execution_count": 20,
   "metadata": {},
   "outputs": [],
   "source": [
    "import pandas as pd\n",
    "from sklearn.model_selection import train_test_split\n",
    "from sklearn.preprocessing import LabelEncoder, StandardScaler\n",
    "from sklearn.svm import SVC\n",
    "from sklearn.metrics import classification_report, confusion_matrix"
   ]
  },
  {
   "cell_type": "code",
   "execution_count": 26,
   "metadata": {},
   "outputs": [
    {
     "name": "stdout",
     "output_type": "stream",
     "text": [
      "Classification Report:\n",
      "               precision    recall  f1-score   support\n",
      "\n",
      "           2       0.00      0.00      0.00         4\n",
      "           3       0.00      0.00      0.00        24\n",
      "           4       0.00      0.00      0.00         2\n",
      "           5       0.00      0.00      0.00         2\n",
      "           7       0.00      0.00      0.00         3\n",
      "           8       0.00      0.00      0.00         3\n",
      "           9       0.32      0.38      0.35        86\n",
      "          11       0.00      0.00      0.00         3\n",
      "          12       0.00      0.00      0.00        24\n",
      "          13       0.43      0.72      0.54       107\n",
      "          14       0.47      0.43      0.45        87\n",
      "          15       0.00      0.00      0.00        12\n",
      "          18       0.00      0.00      0.00         2\n",
      "          19       0.00      0.00      0.00         2\n",
      "\n",
      "    accuracy                           0.41       361\n",
      "   macro avg       0.09      0.11      0.10       361\n",
      "weighted avg       0.32      0.41      0.35       361\n",
      "\n"
     ]
    },
    {
     "name": "stderr",
     "output_type": "stream",
     "text": [
      "c:\\Users\\chjul\\AppData\\Local\\r-miniconda\\lib\\site-packages\\sklearn\\metrics\\_classification.py:1497: UndefinedMetricWarning: Precision is ill-defined and being set to 0.0 in labels with no predicted samples. Use `zero_division` parameter to control this behavior.\n",
      "  _warn_prf(average, modifier, f\"{metric.capitalize()} is\", len(result))\n",
      "c:\\Users\\chjul\\AppData\\Local\\r-miniconda\\lib\\site-packages\\sklearn\\metrics\\_classification.py:1497: UndefinedMetricWarning: Precision is ill-defined and being set to 0.0 in labels with no predicted samples. Use `zero_division` parameter to control this behavior.\n",
      "  _warn_prf(average, modifier, f\"{metric.capitalize()} is\", len(result))\n",
      "c:\\Users\\chjul\\AppData\\Local\\r-miniconda\\lib\\site-packages\\sklearn\\metrics\\_classification.py:1497: UndefinedMetricWarning: Precision is ill-defined and being set to 0.0 in labels with no predicted samples. Use `zero_division` parameter to control this behavior.\n",
      "  _warn_prf(average, modifier, f\"{metric.capitalize()} is\", len(result))\n"
     ]
    }
   ],
   "source": [
    "X = df.iloc[:, :-1]\n",
    "y = df.iloc[:, -1]\n",
    "\n",
    "le = LabelEncoder()\n",
    "for col in X.select_dtypes(include='object').columns:\n",
    "    X[col] = le.fit_transform(X[col])\n",
    "y = le.fit_transform(y)\n",
    "\n",
    "# Normalization of numeric features\n",
    "scaler = StandardScaler()\n",
    "X = scaler.fit_transform(X)\n",
    "\n",
    "X_train, X_test, y_train, y_test = train_test_split(X, y, test_size=0.3, random_state=42)\n",
    "\n",
    "\n",
    "svm = SVC(kernel='rbf', C=1, gamma='scale', random_state=42)\n",
    "svm.fit(X_train, y_train)\n",
    "\n",
    "y_pred = svm.predict(X_test)\n",
    "print(\"Classification Report:\\n\", classification_report(y_test, y_pred))\n"
   ]
  }
 ],
 "metadata": {
  "kernelspec": {
   "display_name": "base",
   "language": "python",
   "name": "python3"
  },
  "language_info": {
   "codemirror_mode": {
    "name": "ipython",
    "version": 3
   },
   "file_extension": ".py",
   "mimetype": "text/x-python",
   "name": "python",
   "nbconvert_exporter": "python",
   "pygments_lexer": "ipython3",
   "version": "3.10.10"
  }
 },
 "nbformat": 4,
 "nbformat_minor": 2
}
